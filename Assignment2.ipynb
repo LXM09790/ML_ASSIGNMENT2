{
  "nbformat": 4,
  "nbformat_minor": 0,
  "metadata": {
    "colab": {
      "provenance": [],
      "authorship_tag": "ABX9TyP37AE5BD66pOcUsjz7mU/Y",
      "include_colab_link": true
    },
    "kernelspec": {
      "name": "python3",
      "display_name": "Python 3"
    },
    "language_info": {
      "name": "python"
    }
  },
  "cells": [
    {
      "cell_type": "markdown",
      "metadata": {
        "id": "view-in-github",
        "colab_type": "text"
      },
      "source": [
        "<a href=\"https://colab.research.google.com/github/LXM09790/ML_ASSIGNMENT2/blob/main/Assignment2.ipynb\" target=\"_parent\"><img src=\"https://colab.research.google.com/assets/colab-badge.svg\" alt=\"Open In Colab\"/></a>"
      ]
    },
    {
      "cell_type": "code",
      "execution_count": 79,
      "metadata": {
        "colab": {
          "base_uri": "https://localhost:8080/"
        },
        "id": "hfd_UEaS2kdg",
        "outputId": "405679ca-9b88-4e76-d584-bfbd80529955"
      },
      "outputs": [
        {
          "output_type": "stream",
          "name": "stdout",
          "text": [
            "\n",
            "\n",
            "\n",
            "\n",
            "* \n",
            "\n",
            "* * \n",
            "\n",
            "* * * \n",
            "\n",
            "* * * * \n",
            "\n",
            "* * * * * \n",
            "\n",
            "* * * * \n",
            "\n",
            "* * * \n",
            "\n",
            "* * \n",
            "\n",
            "* "
          ]
        }
      ],
      "source": [
        "#1. Use a python code to display the following star pattern using the for loop\n",
        "for i in range(0,10):#this is loop is used for the iterate the loop that how many times required\n",
        "  print(\"\\n\")\n",
        "  if(i<=5):\n",
        "    for j in range(0,i):#for the firsthalf pattern we use this loop\n",
        "      print(\"*\",end=\" \")\n",
        "  if(i>5):\n",
        "    for k in range(i,10,1):#for the secondhalf pattern we use this loop\n",
        "        print(\"*\",end=\" \")"
      ]
    },
    {
      "cell_type": "code",
      "source": [
        "#2.Use looping to output the elements from a provided list present at odd indexes.\n",
        "my_list = [10, 20, 30, 40, 50, 60, 70, 80, 90, 100]\n",
        "for i in range(len(my_list)+1):#to iterate the elements in the list based on the index\n",
        "  if(i%2!=0):#To ger the odd index inn the list\n",
        "    print(my_list[i],end=\" \")\n",
        "  \n"
      ],
      "metadata": {
        "id": "-pUuJ4p-7q4F",
        "colab": {
          "base_uri": "https://localhost:8080/"
        },
        "outputId": "a08198c3-7f7d-4490-9c40-0d45bf7bc4a1"
      },
      "execution_count": 87,
      "outputs": [
        {
          "output_type": "stream",
          "name": "stdout",
          "text": [
            "20 40 60 80 100 "
          ]
        }
      ]
    },
    {
      "cell_type": "code",
      "source": [
        "#3.Write a code that appends the type of elements from a given list.\n",
        "x = [23, 'Python', 23.98]\n",
        "Type=[]\n",
        "for i in x:#To acces the elements in the List \n",
        "  Type.append(type(i))#it iused to append the type of values in the list\n",
        "print(x)\n",
        "print(Type)\n"
      ],
      "metadata": {
        "id": "vrIjGVb8A6Hx",
        "colab": {
          "base_uri": "https://localhost:8080/"
        },
        "outputId": "0edb2b24-79ca-4f2b-bd00-d1dce0ddfcc4"
      },
      "execution_count": 93,
      "outputs": [
        {
          "output_type": "stream",
          "name": "stdout",
          "text": [
            "[23, 'Python', 23.98]\n",
            "[<class 'int'>, <class 'str'>, <class 'float'>]\n"
          ]
        }
      ]
    },
    {
      "cell_type": "code",
      "source": [
        "#4.Write a function that takes a list and returns a new list with unique items of the first list.\n",
        "def uniqeList(list):\n",
        "  list_set = set(list)#set function removes all the duplicate elements int the list\n",
        "  return list_set\n",
        "Sample_List= [1,2,3,3,3,3,4,5]\n",
        "print(\"Sample List:\",Sample_List)\n",
        "print(\"Unique List:\",list(uniqeList(Sample_List)))#we list function to convert set to list"
      ],
      "metadata": {
        "colab": {
          "base_uri": "https://localhost:8080/"
        },
        "id": "L_CWr6mO1C-r",
        "outputId": "a3d9108c-9b6f-4963-ae03-c5c7dcf5d196"
      },
      "execution_count": 92,
      "outputs": [
        {
          "output_type": "stream",
          "name": "stdout",
          "text": [
            "Sample List: [1, 2, 3, 3, 3, 3, 4, 5]\n",
            "Unique List: [1, 2, 3, 4, 5]\n"
          ]
        }
      ]
    },
    {
      "cell_type": "code",
      "source": [
        "#5.Write a function that accepts a string and calculate the number of upper-case letters and lower-case letters. \n",
        "def count(string):\n",
        "  #By using map() we can iterate the values without using for loop.\n",
        "  print(\"No.of Upper-case characters: \",sum(map(str.isupper, string)))#isupper used to find the upper case letters\n",
        "  print(\"No. of Lower-case characters: \",sum(map(str.islower, string)))#islower used to find the lower case letters.\n",
        "Input_String= 'The quick Brow Fox'\n",
        "count(Input_String)#function calling\n"
      ],
      "metadata": {
        "colab": {
          "base_uri": "https://localhost:8080/"
        },
        "id": "7hlyUN472ecz",
        "outputId": "a5016cb6-8dff-425a-e978-0549e837d7ce"
      },
      "execution_count": 94,
      "outputs": [
        {
          "output_type": "stream",
          "name": "stdout",
          "text": [
            "No.of Upper-case characters:  3\n",
            "No. of Lower-case characters:  12\n"
          ]
        }
      ]
    },
    {
      "cell_type": "code",
      "source": [],
      "metadata": {
        "id": "MjPtZ9O-8XJP"
      },
      "execution_count": null,
      "outputs": []
    }
  ]
}